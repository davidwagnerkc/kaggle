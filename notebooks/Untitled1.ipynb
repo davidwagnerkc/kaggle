{
 "cells": [
  {
   "cell_type": "code",
   "execution_count": 1,
   "metadata": {},
   "outputs": [],
   "source": [
    "import zipfile\n",
    "import pandas as pd\n",
    "import numpy as np\n",
    "from PIL import Image\n",
    "from pathlib import Path\n",
    "import tqdm\n",
    "import lzma"
   ]
  },
  {
   "cell_type": "code",
   "execution_count": 2,
   "metadata": {},
   "outputs": [],
   "source": [
    "ARCHIVE = Path('../input/test_full_size.7z')\n",
    "PROCESSED = Path('../input/test_full_size')"
   ]
  },
  {
   "cell_type": "code",
   "execution_count": 3,
   "metadata": {},
   "outputs": [],
   "source": [
    "f = lzma.open(ARCHIVE)"
   ]
  },
  {
   "cell_type": "code",
   "execution_count": 4,
   "metadata": {},
   "outputs": [
    {
     "data": {
      "text/plain": [
       "<lzma.LZMAFile at 0x7f4e002ef588>"
      ]
     },
     "execution_count": 4,
     "metadata": {},
     "output_type": "execute_result"
    }
   ],
   "source": [
    "f."
   ]
  },
  {
   "cell_type": "code",
   "execution_count": 6,
   "metadata": {},
   "outputs": [
    {
     "ename": "BadZipFile",
     "evalue": "File is not a zip file",
     "output_type": "error",
     "traceback": [
      "\u001b[0;31m---------------------------------------------------------------------------\u001b[0m",
      "\u001b[0;31mBadZipFile\u001b[0m                                Traceback (most recent call last)",
      "\u001b[0;32m<timed exec>\u001b[0m in \u001b[0;36m<module>\u001b[0;34m\u001b[0m\n",
      "\u001b[0;32m/opt/anaconda3/lib/python3.7/zipfile.py\u001b[0m in \u001b[0;36m__init__\u001b[0;34m(self, file, mode, compression, allowZip64, compresslevel)\u001b[0m\n\u001b[1;32m   1198\u001b[0m         \u001b[0;32mtry\u001b[0m\u001b[0;34m:\u001b[0m\u001b[0;34m\u001b[0m\u001b[0m\n\u001b[1;32m   1199\u001b[0m             \u001b[0;32mif\u001b[0m \u001b[0mmode\u001b[0m \u001b[0;34m==\u001b[0m \u001b[0;34m'r'\u001b[0m\u001b[0;34m:\u001b[0m\u001b[0;34m\u001b[0m\u001b[0m\n\u001b[0;32m-> 1200\u001b[0;31m                 \u001b[0mself\u001b[0m\u001b[0;34m.\u001b[0m\u001b[0m_RealGetContents\u001b[0m\u001b[0;34m(\u001b[0m\u001b[0;34m)\u001b[0m\u001b[0;34m\u001b[0m\u001b[0m\n\u001b[0m\u001b[1;32m   1201\u001b[0m             \u001b[0;32melif\u001b[0m \u001b[0mmode\u001b[0m \u001b[0;32min\u001b[0m \u001b[0;34m(\u001b[0m\u001b[0;34m'w'\u001b[0m\u001b[0;34m,\u001b[0m \u001b[0;34m'x'\u001b[0m\u001b[0;34m)\u001b[0m\u001b[0;34m:\u001b[0m\u001b[0;34m\u001b[0m\u001b[0m\n\u001b[1;32m   1202\u001b[0m                 \u001b[0;31m# set the modified flag so central directory gets written\u001b[0m\u001b[0;34m\u001b[0m\u001b[0;34m\u001b[0m\u001b[0m\n",
      "\u001b[0;32m/opt/anaconda3/lib/python3.7/zipfile.py\u001b[0m in \u001b[0;36m_RealGetContents\u001b[0;34m(self)\u001b[0m\n\u001b[1;32m   1265\u001b[0m             \u001b[0;32mraise\u001b[0m \u001b[0mBadZipFile\u001b[0m\u001b[0;34m(\u001b[0m\u001b[0;34m\"File is not a zip file\"\u001b[0m\u001b[0;34m)\u001b[0m\u001b[0;34m\u001b[0m\u001b[0m\n\u001b[1;32m   1266\u001b[0m         \u001b[0;32mif\u001b[0m \u001b[0;32mnot\u001b[0m \u001b[0mendrec\u001b[0m\u001b[0;34m:\u001b[0m\u001b[0;34m\u001b[0m\u001b[0m\n\u001b[0;32m-> 1267\u001b[0;31m             \u001b[0;32mraise\u001b[0m \u001b[0mBadZipFile\u001b[0m\u001b[0;34m(\u001b[0m\u001b[0;34m\"File is not a zip file\"\u001b[0m\u001b[0;34m)\u001b[0m\u001b[0;34m\u001b[0m\u001b[0m\n\u001b[0m\u001b[1;32m   1268\u001b[0m         \u001b[0;32mif\u001b[0m \u001b[0mself\u001b[0m\u001b[0;34m.\u001b[0m\u001b[0mdebug\u001b[0m \u001b[0;34m>\u001b[0m \u001b[0;36m1\u001b[0m\u001b[0;34m:\u001b[0m\u001b[0;34m\u001b[0m\u001b[0m\n\u001b[1;32m   1269\u001b[0m             \u001b[0mprint\u001b[0m\u001b[0;34m(\u001b[0m\u001b[0mendrec\u001b[0m\u001b[0;34m)\u001b[0m\u001b[0;34m\u001b[0m\u001b[0m\n",
      "\u001b[0;31mBadZipFile\u001b[0m: File is not a zip file"
     ]
    }
   ],
   "source": [
    "%%time \n",
    "with zipfile.ZipFile('../input/test_full_size.7z', 'r') as archive, \\\n",
    "  zipfile.ZipFile('../input/test_full_size_processed.zip', 'w') as archive_out:\n",
    "    for name in tqdm.tqdm_notebook(archive.namelist()):\n",
    "        img = Image.open(io.BytesIO(archive.read(name)))\n",
    "        output = io.BytesIO()\n",
    "        img.resize((1024, 1024)).save(output, format='png')\n",
    "        archive_out.writestr(name, output.getvalue())"
   ]
  },
  {
   "cell_type": "code",
   "execution_count": 7,
   "metadata": {},
   "outputs": [
    {
     "name": "stdout",
     "output_type": "stream",
     "text": [
      "\u001b[0m\u001b[01;34mhpa-images-processed\u001b[0m/  \u001b[01;34mhuman-protein-atlas-image-classification\u001b[0m/\n",
      "\u001b[01;34mhpa_processed\u001b[0m/         \u001b[01;34mtest_full_size\u001b[0m/\n",
      "\u001b[01;34mHPAv18\u001b[0m/                \u001b[01;31mtest_full_size.7z\u001b[0m\n"
     ]
    }
   ],
   "source": [
    "ls ../input"
   ]
  },
  {
   "cell_type": "code",
   "execution_count": 8,
   "metadata": {},
   "outputs": [
    {
     "ename": "BadZipFile",
     "evalue": "File is not a zip file",
     "output_type": "error",
     "traceback": [
      "\u001b[0;31m---------------------------------------------------------------------------\u001b[0m",
      "\u001b[0;31mBadZipFile\u001b[0m                                Traceback (most recent call last)",
      "\u001b[0;32m<ipython-input-8-689f286f4bd1>\u001b[0m in \u001b[0;36m<module>\u001b[0;34m\u001b[0m\n\u001b[0;32m----> 1\u001b[0;31m \u001b[0mf\u001b[0m \u001b[0;34m=\u001b[0m \u001b[0mzipfile\u001b[0m\u001b[0;34m.\u001b[0m\u001b[0mZipFile\u001b[0m\u001b[0;34m(\u001b[0m\u001b[0;34m'../input/test_full_size.7z'\u001b[0m\u001b[0;34m)\u001b[0m\u001b[0;34m\u001b[0m\u001b[0m\n\u001b[0m",
      "\u001b[0;32m/opt/anaconda3/lib/python3.7/zipfile.py\u001b[0m in \u001b[0;36m__init__\u001b[0;34m(self, file, mode, compression, allowZip64, compresslevel)\u001b[0m\n\u001b[1;32m   1198\u001b[0m         \u001b[0;32mtry\u001b[0m\u001b[0;34m:\u001b[0m\u001b[0;34m\u001b[0m\u001b[0m\n\u001b[1;32m   1199\u001b[0m             \u001b[0;32mif\u001b[0m \u001b[0mmode\u001b[0m \u001b[0;34m==\u001b[0m \u001b[0;34m'r'\u001b[0m\u001b[0;34m:\u001b[0m\u001b[0;34m\u001b[0m\u001b[0m\n\u001b[0;32m-> 1200\u001b[0;31m                 \u001b[0mself\u001b[0m\u001b[0;34m.\u001b[0m\u001b[0m_RealGetContents\u001b[0m\u001b[0;34m(\u001b[0m\u001b[0;34m)\u001b[0m\u001b[0;34m\u001b[0m\u001b[0m\n\u001b[0m\u001b[1;32m   1201\u001b[0m             \u001b[0;32melif\u001b[0m \u001b[0mmode\u001b[0m \u001b[0;32min\u001b[0m \u001b[0;34m(\u001b[0m\u001b[0;34m'w'\u001b[0m\u001b[0;34m,\u001b[0m \u001b[0;34m'x'\u001b[0m\u001b[0;34m)\u001b[0m\u001b[0;34m:\u001b[0m\u001b[0;34m\u001b[0m\u001b[0m\n\u001b[1;32m   1202\u001b[0m                 \u001b[0;31m# set the modified flag so central directory gets written\u001b[0m\u001b[0;34m\u001b[0m\u001b[0;34m\u001b[0m\u001b[0m\n",
      "\u001b[0;32m/opt/anaconda3/lib/python3.7/zipfile.py\u001b[0m in \u001b[0;36m_RealGetContents\u001b[0;34m(self)\u001b[0m\n\u001b[1;32m   1265\u001b[0m             \u001b[0;32mraise\u001b[0m \u001b[0mBadZipFile\u001b[0m\u001b[0;34m(\u001b[0m\u001b[0;34m\"File is not a zip file\"\u001b[0m\u001b[0;34m)\u001b[0m\u001b[0;34m\u001b[0m\u001b[0m\n\u001b[1;32m   1266\u001b[0m         \u001b[0;32mif\u001b[0m \u001b[0;32mnot\u001b[0m \u001b[0mendrec\u001b[0m\u001b[0;34m:\u001b[0m\u001b[0;34m\u001b[0m\u001b[0m\n\u001b[0;32m-> 1267\u001b[0;31m             \u001b[0;32mraise\u001b[0m \u001b[0mBadZipFile\u001b[0m\u001b[0;34m(\u001b[0m\u001b[0;34m\"File is not a zip file\"\u001b[0m\u001b[0;34m)\u001b[0m\u001b[0;34m\u001b[0m\u001b[0m\n\u001b[0m\u001b[1;32m   1268\u001b[0m         \u001b[0;32mif\u001b[0m \u001b[0mself\u001b[0m\u001b[0;34m.\u001b[0m\u001b[0mdebug\u001b[0m \u001b[0;34m>\u001b[0m \u001b[0;36m1\u001b[0m\u001b[0;34m:\u001b[0m\u001b[0;34m\u001b[0m\u001b[0m\n\u001b[1;32m   1269\u001b[0m             \u001b[0mprint\u001b[0m\u001b[0;34m(\u001b[0m\u001b[0mendrec\u001b[0m\u001b[0;34m)\u001b[0m\u001b[0;34m\u001b[0m\u001b[0m\n",
      "\u001b[0;31mBadZipFile\u001b[0m: File is not a zip file"
     ]
    }
   ],
   "source": [
    "f = zipfile.('../input/test_full_size.7z')"
   ]
  },
  {
   "cell_type": "code",
   "execution_count": 9,
   "metadata": {},
   "outputs": [
    {
     "data": {
      "text/plain": [
       "['BZIP2_VERSION',\n",
       " 'BadZipFile',\n",
       " 'BadZipfile',\n",
       " 'DEFAULT_VERSION',\n",
       " 'LZMACompressor',\n",
       " 'LZMADecompressor',\n",
       " 'LZMA_VERSION',\n",
       " 'LargeZipFile',\n",
       " 'MAX_EXTRACT_VERSION',\n",
       " 'PyZipFile',\n",
       " 'ZIP64_LIMIT',\n",
       " 'ZIP64_VERSION',\n",
       " 'ZIP_BZIP2',\n",
       " 'ZIP_DEFLATED',\n",
       " 'ZIP_FILECOUNT_LIMIT',\n",
       " 'ZIP_LZMA',\n",
       " 'ZIP_MAX_COMMENT',\n",
       " 'ZIP_STORED',\n",
       " 'ZipExtFile',\n",
       " 'ZipFile',\n",
       " 'ZipInfo',\n",
       " '_CD64_CREATE_VERSION',\n",
       " '_CD64_DIRECTORY_RECSIZE',\n",
       " '_CD64_DIRECTORY_SIZE',\n",
       " '_CD64_DISK_NUMBER',\n",
       " '_CD64_DISK_NUMBER_START',\n",
       " '_CD64_EXTRACT_VERSION',\n",
       " '_CD64_NUMBER_ENTRIES_THIS_DISK',\n",
       " '_CD64_NUMBER_ENTRIES_TOTAL',\n",
       " '_CD64_OFFSET_START_CENTDIR',\n",
       " '_CD64_SIGNATURE',\n",
       " '_CD_COMMENT_LENGTH',\n",
       " '_CD_COMPRESSED_SIZE',\n",
       " '_CD_COMPRESS_TYPE',\n",
       " '_CD_CRC',\n",
       " '_CD_CREATE_SYSTEM',\n",
       " '_CD_CREATE_VERSION',\n",
       " '_CD_DATE',\n",
       " '_CD_DISK_NUMBER_START',\n",
       " '_CD_EXTERNAL_FILE_ATTRIBUTES',\n",
       " '_CD_EXTRACT_SYSTEM',\n",
       " '_CD_EXTRACT_VERSION',\n",
       " '_CD_EXTRA_FIELD_LENGTH',\n",
       " '_CD_FILENAME_LENGTH',\n",
       " '_CD_FLAG_BITS',\n",
       " '_CD_INTERNAL_FILE_ATTRIBUTES',\n",
       " '_CD_LOCAL_HEADER_OFFSET',\n",
       " '_CD_SIGNATURE',\n",
       " '_CD_TIME',\n",
       " '_CD_UNCOMPRESSED_SIZE',\n",
       " '_ECD_COMMENT',\n",
       " '_ECD_COMMENT_SIZE',\n",
       " '_ECD_DISK_NUMBER',\n",
       " '_ECD_DISK_START',\n",
       " '_ECD_ENTRIES_THIS_DISK',\n",
       " '_ECD_ENTRIES_TOTAL',\n",
       " '_ECD_LOCATION',\n",
       " '_ECD_OFFSET',\n",
       " '_ECD_SIGNATURE',\n",
       " '_ECD_SIZE',\n",
       " '_EndRecData',\n",
       " '_EndRecData64',\n",
       " '_FH_COMPRESSED_SIZE',\n",
       " '_FH_COMPRESSION_METHOD',\n",
       " '_FH_CRC',\n",
       " '_FH_EXTRACT_SYSTEM',\n",
       " '_FH_EXTRACT_VERSION',\n",
       " '_FH_EXTRA_FIELD_LENGTH',\n",
       " '_FH_FILENAME_LENGTH',\n",
       " '_FH_GENERAL_PURPOSE_FLAG_BITS',\n",
       " '_FH_LAST_MOD_DATE',\n",
       " '_FH_LAST_MOD_TIME',\n",
       " '_FH_SIGNATURE',\n",
       " '_FH_UNCOMPRESSED_SIZE',\n",
       " '_SharedFile',\n",
       " '_Tellable',\n",
       " '_ZipDecrypter',\n",
       " '_ZipWriteFile',\n",
       " '__all__',\n",
       " '__builtins__',\n",
       " '__cached__',\n",
       " '__doc__',\n",
       " '__file__',\n",
       " '__loader__',\n",
       " '__name__',\n",
       " '__package__',\n",
       " '__spec__',\n",
       " '_check_compression',\n",
       " '_check_zipfile',\n",
       " '_crctable',\n",
       " '_gen_crc',\n",
       " '_get_compressor',\n",
       " '_get_decompressor',\n",
       " 'binascii',\n",
       " 'bz2',\n",
       " 'compressor_names',\n",
       " 'crc32',\n",
       " 'error',\n",
       " 'importlib',\n",
       " 'io',\n",
       " 'is_zipfile',\n",
       " 'lzma',\n",
       " 'main',\n",
       " 'os',\n",
       " 'shutil',\n",
       " 'sizeCentralDir',\n",
       " 'sizeEndCentDir',\n",
       " 'sizeEndCentDir64',\n",
       " 'sizeEndCentDir64Locator',\n",
       " 'sizeFileHeader',\n",
       " 'stat',\n",
       " 'stringCentralDir',\n",
       " 'stringEndArchive',\n",
       " 'stringEndArchive64',\n",
       " 'stringEndArchive64Locator',\n",
       " 'stringFileHeader',\n",
       " 'struct',\n",
       " 'structCentralDir',\n",
       " 'structEndArchive',\n",
       " 'structEndArchive64',\n",
       " 'structEndArchive64Locator',\n",
       " 'structFileHeader',\n",
       " 'sys',\n",
       " 'threading',\n",
       " 'time',\n",
       " 'zlib']"
      ]
     },
     "execution_count": 9,
     "metadata": {},
     "output_type": "execute_result"
    }
   ],
   "source": [
    "dir(zipfile)"
   ]
  },
  {
   "cell_type": "code",
   "execution_count": null,
   "metadata": {},
   "outputs": [],
   "source": []
  }
 ],
 "metadata": {
  "kernelspec": {
   "display_name": "Python 3",
   "language": "python",
   "name": "python3"
  },
  "language_info": {
   "codemirror_mode": {
    "name": "ipython",
    "version": 3
   },
   "file_extension": ".py",
   "mimetype": "text/x-python",
   "name": "python",
   "nbconvert_exporter": "python",
   "pygments_lexer": "ipython3",
   "version": "3.7.0"
  }
 },
 "nbformat": 4,
 "nbformat_minor": 2
}
