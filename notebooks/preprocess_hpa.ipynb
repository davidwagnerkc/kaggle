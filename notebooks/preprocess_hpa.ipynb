{
 "cells": [
  {
   "cell_type": "code",
   "execution_count": 1,
   "metadata": {
    "_uuid": "c259ab7c3cfb3b038626a45f263de859f192b1c8"
   },
   "outputs": [],
   "source": [
    "import copy\n",
    "import itertools\n",
    "import time\n",
    "from pathlib import Path\n",
    "import os\n",
    "\n",
    "import torch\n",
    "import torch.nn as nn\n",
    "import torch.nn.functional as F\n",
    "import torch.optim as optim\n",
    "from torch.optim import lr_scheduler\n",
    "from torch.utils.data import Dataset\n",
    "from torch.utils.data import DataLoader\n",
    "\n",
    "import torchvision\n",
    "from torchvision import datasets, models, transforms\n",
    "\n",
    "from multiprocessing import cpu_count\n",
    "from multiprocessing.dummy import Pool\n",
    "import numpy as np\n",
    "import pandas as pd\n",
    "\n",
    "from sklearn.preprocessing import MultiLabelBinarizer\n",
    "import tqdm\n",
    "from PIL import Image\n",
    "\n",
    "import matplotlib as mpl\n",
    "mpl_params = {\n",
    "    'figure.figsize': (10, 5),\n",
    "    'figure.dpi': 300,\n",
    "}\n",
    "from matplotlib import pyplot as plt\n",
    "mpl.rcParams.update(mpl_params)\n",
    "\n",
    "import seaborn as sns\n",
    "sns.set()"
   ]
  },
  {
   "cell_type": "code",
   "execution_count": 2,
   "metadata": {},
   "outputs": [],
   "source": [
    "HPA_DIR = Path('../input/HPAv18/')\n",
    "HPA_PROCESSED = Path('../hpa_processed')\n",
    "HPA_PROCESSED.mkdir(parents=True, exist_ok=True)"
   ]
  },
  {
   "cell_type": "code",
   "execution_count": 3,
   "metadata": {
    "_uuid": "92a02ee04a7b992a07de1dfb25000124111a0308"
   },
   "outputs": [],
   "source": [
    "hpa_df = pd.read_csv('../HPAv18RBGY_wodpl.csv')"
   ]
  },
  {
   "cell_type": "code",
   "execution_count": 4,
   "metadata": {},
   "outputs": [],
   "source": [
    "# def plot_labels(df, ax):\n",
    "#     labels, counts = np.unique(list(map(int, itertools.chain(*df.Target.str.split()))), return_counts=True)  \n",
    "#     pd.DataFrame(counts, labels).plot(kind='bar', ax=ax)\n",
    "#     ax.set_ylim([0, 15000])"
   ]
  },
  {
   "cell_type": "code",
   "execution_count": 5,
   "metadata": {},
   "outputs": [],
   "source": [
    "# aug_labels = [1, 3, 4, 5, 6, 8, 9, 10, 11, 12, 13, 14, 15, 16, 17, 18, 19, 20, 22, 24, 26, 27]"
   ]
  },
  {
   "cell_type": "code",
   "execution_count": 6,
   "metadata": {},
   "outputs": [],
   "source": [
    "# selection_df = hpa_df[hpa_df.Target.apply(lambda x: bool(set(aug_labels).intersection(list(map(int, x.split())))))]"
   ]
  },
  {
   "cell_type": "code",
   "execution_count": 7,
   "metadata": {},
   "outputs": [],
   "source": [
    "# selection_df.head()"
   ]
  },
  {
   "cell_type": "code",
   "execution_count": 8,
   "metadata": {},
   "outputs": [],
   "source": [
    "# selection_df.to_csv('hpa_select.csv', index=False)"
   ]
  },
  {
   "cell_type": "code",
   "execution_count": 9,
   "metadata": {},
   "outputs": [],
   "source": [
    "# len(selection_df)"
   ]
  },
  {
   "cell_type": "code",
   "execution_count": 10,
   "metadata": {},
   "outputs": [],
   "source": [
    "# fig, axes = plt.subplots(nrows=2)\n",
    "# plot_labels(hpa_df, axes[0])\n",
    "# plot_labels(selection_df, axes[1])"
   ]
  },
  {
   "cell_type": "code",
   "execution_count": 11,
   "metadata": {
    "_uuid": "1a638cedbd14ff214fcdc95e99ae026a5b73128c"
   },
   "outputs": [
    {
     "data": {
      "text/plain": [
       "device(type='cuda', index=0)"
      ]
     },
     "execution_count": 11,
     "metadata": {},
     "output_type": "execute_result"
    }
   ],
   "source": [
    "device = torch.device('cuda:0' if torch.cuda.is_available() else 'cpu')\n",
    "device"
   ]
  },
  {
   "cell_type": "code",
   "execution_count": 12,
   "metadata": {
    "_uuid": "e331013f414d58d12f9aed0f8b338e6ea41fc534"
   },
   "outputs": [],
   "source": [
    "LABELS = {\n",
    "    0: 'Nucleoplasm', \n",
    "    1: 'Nuclear membrane',   \n",
    "    2: 'Nucleoli',   \n",
    "    3: 'Nucleoli fibrillar center' ,  \n",
    "    4: 'Nuclear speckles',\n",
    "    5: 'Nuclear bodies',\n",
    "    6: 'Endoplasmic reticulum',   \n",
    "    7: 'Golgi apparatus',\n",
    "    8: 'Peroxisomes',\n",
    "    9: 'Endosomes',\n",
    "    10: 'Lysosomes',\n",
    "    11: 'Intermediate filaments',   \n",
    "    12: 'Actin filaments',\n",
    "    13: 'Focal adhesion sites',   \n",
    "    14: 'Microtubules',\n",
    "    15: 'Microtubule ends',   \n",
    "    16: 'Cytokinetic bridge',   \n",
    "    17: 'Mitotic spindle',\n",
    "    18: 'Microtubule organizing center',  \n",
    "    19: 'Centrosome',\n",
    "    20: 'Lipid droplets',   \n",
    "    21: 'Plasma membrane',   \n",
    "    22: 'Cell junctions', \n",
    "    23: 'Mitochondria',\n",
    "    24: 'Aggresome',\n",
    "    25: 'Cytosol',\n",
    "    26: 'Cytoplasmic bodies',   \n",
    "    27: 'Rods & rings'\n",
    "}\n",
    "\n",
    "LABEL_NAMES = list(LABELS.values())"
   ]
  },
  {
   "cell_type": "code",
   "execution_count": 13,
   "metadata": {
    "_uuid": "6c8d69d944c8c8a51a5f246e0f5413af149960f3"
   },
   "outputs": [],
   "source": [
    "class ProteinDataset(Dataset):\n",
    "    def __init__(self, df, images_dir, transform=None):            \n",
    "        self.df = df.copy()\n",
    "        self._dir = images_dir\n",
    "        self.transform = transform\n",
    "        self.p = Pool(1)\n",
    "        self.mlb = MultiLabelBinarizer(list(range(len(LABELS))))\n",
    "        self.count = 0\n",
    "        self.total_load = 0\n",
    "        self.total_stack = 0\n",
    "        self.total_transform = 0\n",
    "        self.colors = ['red', 'green', 'blue', 'yellow']\n",
    "        self.cache_size = len(self.df)\n",
    "        self.latest = 0\n",
    "        self.stack = []\n",
    "        self.save = iter(list(range(73)))\n",
    "        \n",
    "        self.cache = {}\n",
    "#         for i in range(self.cache_size):\n",
    "#             self.latest = i\n",
    "#             id_ = self.df.iloc[i].Id\n",
    "#             image_paths = [self._dir / f'{id_}_{c}.png' for c in self.colors]\n",
    "#             self.cache[i] = self.p.map_async(self.mp_load, image_paths)\n",
    "\n",
    "    def __len__(self):\n",
    "        return len(self.df)\n",
    "    \n",
    "    def mp_load(self, path):\n",
    "        pil_im = Image.open(path)\n",
    "        return np.array(pil_im, np.uint8)\n",
    "                                      \n",
    "    def __getitem__(self, key):\n",
    "        self.count += 1\n",
    "        id_ = self.df.iloc[key].Id\n",
    "        \n",
    "#         image_paths = [self._dir / f'{id_}_{c}.png' for c in self.colors]\n",
    "#         t1 = time.time()\n",
    "#         if key in self.cache:\n",
    "#             r, g, b, y = self.cache.pop(key).get()\n",
    "#         else:\n",
    "#             r, g, b, y = self.p.map(self.mp_load, image_paths)\n",
    "#         self.total_load += time.time() - t1\n",
    "        \n",
    "#         t1 = time.time()\n",
    "#         rgb = np.stack([\n",
    "#             r // 2 + y // 2,\n",
    "#             g // 2 + y // 2,\n",
    "#             b // 2\n",
    "#         ], axis=2)\n",
    "#         self.total_stack += time.time() - t1\n",
    "        rgb = np.array(Image.open(HPA_DIR / f'{id_}.png'), np.uint8)\n",
    "        \n",
    "        y = []\n",
    "        if 'Target' in self.df:\n",
    "            y = list(map(int, self.df.iloc[key].Target.split(' ')))\n",
    "            y = self.mlb.fit_transform([y]).squeeze()\n",
    "            \n",
    "        if transform:\n",
    "            t1 = time.time()\n",
    "            X = transform(rgb)\n",
    "            self.total_transform += time.time() - t1\n",
    "        else:\n",
    "            X = rgb\n",
    "            \n",
    "        self.stack.append(np.array(X))\n",
    "        if len(self.stack) == (len(self.df) / 73):\n",
    "            np.savez_compressed(HPA_PROCESSED / f'{next(self.save)}-processed.npz', *self.stack)\n",
    "            del self.stack\n",
    "            self.stack = []\n",
    "            \n",
    "        fn = f'{id_}.png'\n",
    "        return None #(np.array(X), y, fn)"
   ]
  },
  {
   "cell_type": "code",
   "execution_count": 14,
   "metadata": {
    "_uuid": "9207698551ecaad9231efc9149c51b50f4336e6a"
   },
   "outputs": [],
   "source": [
    "transform = transforms.Compose([\n",
    "    transforms.ToPILImage(),\n",
    "    transforms.Resize((299, 299)),  # (299, 299) InceptionV3 input\n",
    "    transforms.ToTensor(),  # To Tensor dtype and convert [0, 255] uint8 to [0, 1] float\n",
    "    transforms.Normalize(  # Standard image normalization\n",
    "        mean=[0.485, 0.456, 0.406],\n",
    "        std=[0.229, 0.224, 0.225]\n",
    "    ),\n",
    "])"
   ]
  },
  {
   "cell_type": "code",
   "execution_count": 15,
   "metadata": {
    "_uuid": "8b1695b7ecfef947753a6638b1f3dca220343b7b"
   },
   "outputs": [
    {
     "name": "stdout",
     "output_type": "stream",
     "text": [
      "CPU times: user 0 ns, sys: 4 ms, total: 4 ms\n",
      "Wall time: 4.49 ms\n"
     ]
    }
   ],
   "source": [
    "%%time\n",
    "train_ds = ProteinDataset(\n",
    "    df=hpa_df, #selection_df,\n",
    "    images_dir=HPA_DIR,\n",
    "    transform=transform\n",
    ")"
   ]
  },
  {
   "cell_type": "code",
   "execution_count": 16,
   "metadata": {},
   "outputs": [
    {
     "data": {
      "text/plain": [
       "74606"
      ]
     },
     "execution_count": 16,
     "metadata": {},
     "output_type": "execute_result"
    }
   ],
   "source": [
    "len(hpa_df)"
   ]
  },
  {
   "cell_type": "code",
   "execution_count": 17,
   "metadata": {},
   "outputs": [
    {
     "data": {
      "text/plain": [
       "1022.0"
      ]
     },
     "execution_count": 17,
     "metadata": {},
     "output_type": "execute_result"
    }
   ],
   "source": [
    "len(hpa_df) / 73"
   ]
  },
  {
   "cell_type": "code",
   "execution_count": 65,
   "metadata": {
    "_uuid": "e85d78c8bbea1c6c443135dd65a83ad8fc53779a"
   },
   "outputs": [],
   "source": [
    "train_dl = DataLoader(\n",
    "    train_ds,\n",
    "    batch_size=1,\n",
    "    shuffle=False,\n",
    "    num_workers=0,\n",
    ") "
   ]
  },
  {
   "cell_type": "code",
   "execution_count": 66,
   "metadata": {},
   "outputs": [
    {
     "data": {
      "application/vnd.jupyter.widget-view+json": {
       "model_id": "309023299530473587ae1f01e94da019",
       "version_major": 2,
       "version_minor": 0
      },
      "text/plain": [
       "HBox(children=(IntProgress(value=0, max=74606), HTML(value='')))"
      ]
     },
     "metadata": {},
     "output_type": "display_data"
    },
    {
     "name": "stdout",
     "output_type": "stream",
     "text": [
      "1022\n",
      "61.39681553840637\n",
      "2044\n",
      "124.64675641059875\n",
      "3066\n",
      "186.63933563232422\n",
      "4088\n",
      "247.5900421142578\n",
      "5110\n",
      "311.1207928657532\n",
      "6132\n",
      "372.49723649024963\n",
      "7154\n",
      "432.6443660259247\n",
      "8176\n",
      "493.8517909049988\n",
      "9198\n",
      "555.9773960113525\n",
      "10220\n",
      "617.6187725067139\n",
      "11242\n",
      "678.2107384204865\n",
      "12264\n",
      "738.1803865432739\n",
      "13286\n",
      "798.975503206253\n",
      "14308\n",
      "860.803448677063\n",
      "15330\n",
      "923.1103713512421\n",
      "16352\n",
      "983.7217626571655\n",
      "17374\n",
      "1045.2637102603912\n",
      "18396\n",
      "1106.7033779621124\n",
      "19418\n",
      "1167.10830950737\n",
      "20440\n",
      "1228.7718935012817\n",
      "21462\n",
      "1288.6188311576843\n",
      "22484\n",
      "1348.7222998142242\n",
      "23506\n",
      "1408.6210677623749\n",
      "24528\n",
      "1469.7324120998383\n",
      "25550\n",
      "1531.7242126464844\n",
      "26572\n",
      "1591.461081981659\n",
      "27594\n",
      "1653.1047322750092\n",
      "28616\n",
      "1713.6802620887756\n",
      "29638\n",
      "1774.8306760787964\n",
      "30660\n",
      "1838.1042799949646\n",
      "31682\n",
      "1946.7421712875366\n",
      "32704\n",
      "2054.5798845291138\n",
      "33726\n",
      "2164.3240530490875\n",
      "34748\n",
      "2274.1523926258087\n",
      "35770\n",
      "2383.8140029907227\n",
      "36792\n",
      "2494.583196401596\n",
      "37814\n",
      "2606.0963563919067\n",
      "38836\n",
      "2715.8928096294403\n",
      "39858\n",
      "2824.7196753025055\n",
      "40880\n",
      "2934.5826914310455\n",
      "41902\n",
      "3044.6406016349792\n",
      "42924\n",
      "3153.2063863277435\n",
      "43946\n",
      "3263.486069917679\n",
      "44968\n",
      "3372.214832544327\n",
      "45990\n",
      "3483.3408238887787\n",
      "47012\n",
      "3596.280675649643\n",
      "48034\n",
      "3706.9086484909058\n",
      "49056\n",
      "3818.720590353012\n",
      "50078\n",
      "3927.6987223625183\n",
      "51100\n",
      "4037.4802510738373\n",
      "52122\n",
      "4144.5260462760925\n",
      "53144\n",
      "4253.507828950882\n",
      "54166\n",
      "4364.682076931\n",
      "55188\n",
      "4475.849203109741\n",
      "56210\n",
      "4585.546557426453\n",
      "57232\n",
      "4697.998856544495\n",
      "58254\n",
      "4810.781182765961\n",
      "59276\n",
      "4925.340113162994\n",
      "60298\n",
      "5032.723897218704\n",
      "61320\n",
      "5141.01997423172\n",
      "62342\n",
      "5252.173692941666\n",
      "63364\n",
      "5363.963183879852\n",
      "64386\n",
      "5474.438098907471\n",
      "65408\n",
      "5586.80065369606\n",
      "66430\n",
      "5698.598947048187\n",
      "67452\n",
      "5809.032813072205\n",
      "68474\n",
      "5922.4075319767\n",
      "69496\n",
      "6035.350120782852\n",
      "70518\n",
      "6144.280469655991\n",
      "71540\n",
      "6258.773761749268\n",
      "72562\n",
      "6369.968966007233\n",
      "73584\n",
      "6482.711969137192\n",
      "74606\n",
      "6594.163834571838\n"
     ]
    }
   ],
   "source": [
    "# save_pool = Pool(8)\n",
    "count = 0\n",
    "t1 = time.time()\n",
    "for _ in tqdm.tqdm_notebook(train_ds):\n",
    "    count += 1\n",
    "#     save_pool.apply_async(np.save, args=(PROCESSED / z.replace('png', 'npy'), X))\n",
    "    if count % 1022 == 0:\n",
    "        print(count)\n",
    "        print(time.time() - t1)\n",
    "# np.savez_compressed(PROCESSED / 'processed.npz', *train_ds.stack)"
   ]
  },
  {
   "cell_type": "code",
   "execution_count": 142,
   "metadata": {},
   "outputs": [],
   "source": [
    "ls hpa_processed/"
   ]
  }
 ],
 "metadata": {
  "kernelspec": {
   "display_name": "Python 3",
   "language": "python",
   "name": "python3"
  },
  "language_info": {
   "codemirror_mode": {
    "name": "ipython",
    "version": 3
   },
   "file_extension": ".py",
   "mimetype": "text/x-python",
   "name": "python",
   "nbconvert_exporter": "python",
   "pygments_lexer": "ipython3",
   "version": "3.7.1"
  }
 },
 "nbformat": 4,
 "nbformat_minor": 2
}
