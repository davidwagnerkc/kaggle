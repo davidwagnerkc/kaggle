{
 "cells": [
  {
   "cell_type": "code",
   "execution_count": 1,
   "metadata": {},
   "outputs": [],
   "source": [
    "import pandas as pd\n",
    "import numpy as np\n",
    "from PIL import Image\n",
    "from multiprocessing import Pool\n",
    "from pathlib import Path\n",
    "from subprocess import Popen, PIPE\n",
    "import time\n",
    "\n",
    "import copy\n",
    "import itertools\n",
    "import time\n",
    "from pathlib import Path\n",
    "import os\n",
    "\n",
    "import torch\n",
    "import torch.nn as nn\n",
    "import torch.nn.functional as F\n",
    "import torch.optim as optim\n",
    "from torch.optim import lr_scheduler\n",
    "from torch.utils.data import Dataset\n",
    "from torch.utils.data import DataLoader\n",
    "\n",
    "import torchvision\n",
    "from torchvision import datasets, models, transforms\n",
    "\n",
    "from multiprocessing import cpu_count\n",
    "from multiprocessing.dummy import Pool\n",
    "import numpy as np\n",
    "import pandas as pd\n",
    "\n",
    "from sklearn.preprocessing import MultiLabelBinarizer\n",
    "import tqdm\n",
    "from PIL import Image\n",
    "\n",
    "import matplotlib as mpl\n",
    "mpl_params = {\n",
    "    'figure.figsize': (10, 5),\n",
    "    'figure.dpi': 300,\n",
    "}\n",
    "from matplotlib import pyplot as plt\n",
    "mpl.rcParams.update(mpl_params)\n",
    "\n",
    "import seaborn as sns\n",
    "sns.set()"
   ]
  },
  {
   "cell_type": "code",
   "execution_count": 2,
   "metadata": {},
   "outputs": [],
   "source": [
    "test = Path('../input/human-protein-atlas-image-classification/test/')\n",
    "train = Path('../input/human-protein-atlas-image-classification/train/')\n",
    "hpa = Path('../input/HPAv18/')\n",
    "\n",
    "test_df = pd.read_csv('../input/human-protein-atlas-image-classification/sample_submission.csv')\n",
    "train_df = pd.read_csv('../input/human-protein-atlas-image-classification/train.csv')\n",
    "hpa_df = pd.read_csv('../HPAv18RBGY_wodpl.csv')"
   ]
  },
  {
   "cell_type": "code",
   "execution_count": 3,
   "metadata": {},
   "outputs": [
    {
     "data": {
      "text/plain": [
       "Id        00070df0-bbc3-11e8-b2bc-ac1f6b6435d0\n",
       "Target                                    16 0\n",
       "Name: 0, dtype: object"
      ]
     },
     "execution_count": 3,
     "metadata": {},
     "output_type": "execute_result"
    }
   ],
   "source": [
    "train_df.iloc[0]"
   ]
  },
  {
   "cell_type": "code",
   "execution_count": 4,
   "metadata": {},
   "outputs": [
    {
     "data": {
      "text/plain": [
       "Id        10580_1610_C1_1\n",
       "Target       13 25 0 2 21\n",
       "Name: 0, dtype: object"
      ]
     },
     "execution_count": 4,
     "metadata": {},
     "output_type": "execute_result"
    }
   ],
   "source": [
    "hpa_df.iloc[0]"
   ]
  },
  {
   "cell_type": "code",
   "execution_count": 5,
   "metadata": {},
   "outputs": [],
   "source": [
    "transform = transforms.Compose([\n",
    "    transforms.ToTensor(),\n",
    "    transforms.Normalize(\n",
    "        mean=[0.485, 0.456, 0.406],\n",
    "        std=[0.229, 0.224, 0.225]\n",
    "    ),\n",
    "])"
   ]
  },
  {
   "cell_type": "code",
   "execution_count": 6,
   "metadata": {},
   "outputs": [],
   "source": [
    "def load_hpa(id_):\n",
    "    dir_ = hpa\n",
    "    rgb = np.array(Image.open(dir_ / f'{id_}.png'), np.uint8)\n",
    "    return {id_: transform(rgb)}\n",
    "\n",
    "def load_train(id_):\n",
    "    dir_ = train\n",
    "    colors = ['red', 'green', 'blue']\n",
    "    image_paths = [dir_ / f'{id_}_{c}.png' for c in colors]\n",
    "    r, g, b = map(Image.open, image_paths)\n",
    "    rgb = np.stack([r, g, b], axis=2)\n",
    "    return {id_: transform(rgb)}\n",
    "\n",
    "def load_test(id_):\n",
    "    dir_ = test\n",
    "    colors = ['red', 'green', 'blue']\n",
    "    image_paths = [dir_ / f'{id_}_{c}.png' for c in colors]\n",
    "    r, g, b = map(Image.open, image_paths)\n",
    "    rgb = np.stack([r, g, b], axis=2)\n",
    "    return {id_: transform(rgb)}"
   ]
  },
  {
   "cell_type": "code",
   "execution_count": 7,
   "metadata": {},
   "outputs": [],
   "source": [
    "p = Pool()"
   ]
  },
  {
   "cell_type": "code",
   "execution_count": 8,
   "metadata": {},
   "outputs": [
    {
     "name": "stdout",
     "output_type": "stream",
     "text": [
      "CPU times: user 2min 54s, sys: 58.1 s, total: 3min 52s\n",
      "Wall time: 46 s\n"
     ]
    }
   ],
   "source": [
    "%%time\n",
    "test_stack = p.map(load_test, test_df.Id)\n",
    "test_stack = {k: v for d in test_stack for k, v in d.items()}"
   ]
  },
  {
   "cell_type": "code",
   "execution_count": null,
   "metadata": {},
   "outputs": [],
   "source": [
    "%%time\n",
    "np.savez_compressed('test.npz', **test_stack)"
   ]
  },
  {
   "cell_type": "code",
   "execution_count": null,
   "metadata": {},
   "outputs": [],
   "source": []
  }
 ],
 "metadata": {
  "kernelspec": {
   "display_name": "Python 3",
   "language": "python",
   "name": "python3"
  },
  "language_info": {
   "codemirror_mode": {
    "name": "ipython",
    "version": 3
   },
   "file_extension": ".py",
   "mimetype": "text/x-python",
   "name": "python",
   "nbconvert_exporter": "python",
   "pygments_lexer": "ipython3",
   "version": "3.7.1"
  }
 },
 "nbformat": 4,
 "nbformat_minor": 2
}
