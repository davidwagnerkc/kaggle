{
 "cells": [
  {
   "cell_type": "code",
   "execution_count": 17,
   "metadata": {},
   "outputs": [],
   "source": [
    "#mkdir ../input/test_1024"
   ]
  },
  {
   "cell_type": "code",
   "execution_count": 1,
   "metadata": {},
   "outputs": [],
   "source": [
    "#mkdir ../input/train_1024"
   ]
  },
  {
   "cell_type": "code",
   "execution_count": 1,
   "metadata": {},
   "outputs": [],
   "source": [
    "#mkdir ../input/hpa_1024"
   ]
  },
  {
   "cell_type": "code",
   "execution_count": 1,
   "metadata": {},
   "outputs": [],
   "source": [
    "import pandas as pd\n",
    "import numpy as np\n",
    "from PIL import Image\n",
    "from multiprocessing import Pool\n",
    "from pathlib import Path\n",
    "from subprocess import Popen, PIPE\n",
    "import time"
   ]
  },
  {
   "cell_type": "code",
   "execution_count": 2,
   "metadata": {},
   "outputs": [],
   "source": [
    "def convert(z):\n",
    "    try:\n",
    "        fn = z.name.replace(z.suffix, '.png')\n",
    "        if not 'png' in z.suffix: # or Path(f'../input/{dest_dir}/{fn}').exists():\n",
    "            return\n",
    "        im = Image.open(z).resize((128, 128), Image.LANCZOS)\n",
    "        dest_dir = z.parent.name.replace('1024', '128')\n",
    "        im.save(f'../input/{dest_dir}/{fn}', format='png')\n",
    "    except:\n",
    "        print(z)"
   ]
  },
  {
   "cell_type": "code",
   "execution_count": 3,
   "metadata": {},
   "outputs": [],
   "source": [
    "def check_size(z):\n",
    "    fn = z.name.replace(z.suffix, '.png')\n",
    "    if not 'png' in z.suffix: # or Path(f'../input/{dest_dir}/{fn}').exists():\n",
    "        return\n",
    "    p = Popen(['file', z], stdin=PIPE, stdout=PIPE, stderr=PIPE)\n",
    "    output, err = p.communicate()\n",
    "    if '1024' not in str(output):\n",
    "        return (z)\n",
    "    return None\n",
    "#     with Image.open(z) as im:\n",
    "#         if im.size != (1024, 1024):\n",
    "#             print(fn, im.size)"
   ]
  },
  {
   "cell_type": "code",
   "execution_count": 4,
   "metadata": {},
   "outputs": [
    {
     "data": {
      "text/plain": [
       "'hpa_512'"
      ]
     },
     "execution_count": 4,
     "metadata": {},
     "output_type": "execute_result"
    }
   ],
   "source": [
    "Path('../input/hpa_1024/10005_923_B9_1_green.png').parent.name.replace('1024', '512')"
   ]
  },
  {
   "cell_type": "code",
   "execution_count": 5,
   "metadata": {},
   "outputs": [],
   "source": [
    "check_size(Path('../input/hpa_1024/10005_923_B9_1_green.png'))"
   ]
  },
  {
   "cell_type": "code",
   "execution_count": 3,
   "metadata": {},
   "outputs": [],
   "source": [
    "#test_dir = Path('../input/test_full_size/')\n",
    "#train_dir = Path('../input/train_full_size/')\n",
    "#hpa_dir = Path('../input/HPAv18Full/')\n",
    "\n",
    "hpa_dir = Path('../input/hpa_1024/')\n",
    "test_dir = Path('../input/test_1024/')\n",
    "train_dir = Path('../input/train_1024/')"
   ]
  },
  {
   "cell_type": "code",
   "execution_count": 4,
   "metadata": {},
   "outputs": [],
   "source": [
    "p = Pool()"
   ]
  },
  {
   "cell_type": "code",
   "execution_count": 5,
   "metadata": {},
   "outputs": [
    {
     "name": "stdout",
     "output_type": "stream",
     "text": [
      "a...\n",
      "29.70955204963684\n",
      "b...\n",
      "161.79778814315796\n",
      "c...\n",
      "833.9523100852966\n",
      "46808 124288 298424\n",
      "CPU times: user 4.34 s, sys: 2.35 s, total: 6.69 s\n",
      "Wall time: 17min 5s\n"
     ]
    }
   ],
   "source": [
    "%%time\n",
    "print('a...')\n",
    "t1 = time.time()\n",
    "a = p.map(convert, list(test_dir.iterdir()))\n",
    "print(time.time() - t1)\n",
    "print('b...')\n",
    "t2 = time.time()\n",
    "b = p.map(convert, list(train_dir.iterdir()))\n",
    "print(time.time() - t2)\n",
    "print('c...')\n",
    "t3 = time.time()\n",
    "c = p.map(convert, list(hpa_dir.iterdir()))\n",
    "print(time.time() - t3)\n",
    "print(len(a), len(b), len(c))"
   ]
  },
  {
   "cell_type": "code",
   "execution_count": 13,
   "metadata": {},
   "outputs": [
    {
     "data": {
      "text/plain": [
       "True"
      ]
     },
     "execution_count": 13,
     "metadata": {},
     "output_type": "execute_result"
    }
   ],
   "source": [
    "all(x is None for x in a)"
   ]
  },
  {
   "cell_type": "code",
   "execution_count": 14,
   "metadata": {},
   "outputs": [
    {
     "data": {
      "text/plain": [
       "True"
      ]
     },
     "execution_count": 14,
     "metadata": {},
     "output_type": "execute_result"
    }
   ],
   "source": [
    "all(x is None for x in b)"
   ]
  },
  {
   "cell_type": "code",
   "execution_count": 15,
   "metadata": {},
   "outputs": [
    {
     "data": {
      "text/plain": [
       "True"
      ]
     },
     "execution_count": 15,
     "metadata": {},
     "output_type": "execute_result"
    }
   ],
   "source": [
    "all(x is None for x in c)"
   ]
  },
  {
   "cell_type": "code",
   "execution_count": null,
   "metadata": {},
   "outputs": [],
   "source": []
  }
 ],
 "metadata": {
  "kernelspec": {
   "display_name": "Python 3",
   "language": "python",
   "name": "python3"
  },
  "language_info": {
   "codemirror_mode": {
    "name": "ipython",
    "version": 3
   },
   "file_extension": ".py",
   "mimetype": "text/x-python",
   "name": "python",
   "nbconvert_exporter": "python",
   "pygments_lexer": "ipython3",
   "version": "3.7.1"
  }
 },
 "nbformat": 4,
 "nbformat_minor": 2
}
